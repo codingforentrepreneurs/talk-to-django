{
 "cells": [
  {
   "cell_type": "code",
   "execution_count": 1,
   "id": "e094b89c-fd72-402a-8985-2ba56af8f609",
   "metadata": {},
   "outputs": [],
   "source": [
    "import setup\n",
    "\n",
    "setup.init_django()"
   ]
  },
  {
   "cell_type": "code",
   "execution_count": 2,
   "id": "acffb2ef-bfc9-458e-bbac-fa19371208e4",
   "metadata": {},
   "outputs": [],
   "source": [
    "from openai import OpenAI\n",
    "from blog.models import BlogPost\n",
    "from decouple import config\n",
    "EMEDDING_MODEL=config(\"EMEDDING_MODEL\", default=\"text-embedding-3-small\")\n",
    "RECREATE_DATA=True"
   ]
  },
  {
   "cell_type": "code",
   "execution_count": 3,
   "id": "7622db10-7632-45b9-b5ce-8ac2c6d2d50a",
   "metadata": {},
   "outputs": [],
   "source": [
    "docs = [\n",
    "    \"The dog jumped over the cat\", \n",
    "    \"The cat jumped over the dog\",\n",
    "    \"It is very warm today\",\n",
    "    \"The cat is yellow and the dog is red\",\n",
    "]"
   ]
  },
  {
   "cell_type": "code",
   "execution_count": 4,
   "id": "0fb8ad2a-4d1e-4f17-bbec-157fd2050e41",
   "metadata": {},
   "outputs": [],
   "source": [
    "new_data = []\n",
    "for i, x in enumerate(docs):\n",
    "    new_data.append(\n",
    "        BlogPost(title=f\"Blog Post {i+1}\", content=x, can_delete=True)\n",
    "    )\n",
    "\n",
    "if RECREATE_DATA:\n",
    "    qs = BlogPost.objects.filter(can_delete=True)\n",
    "    qs.delete()\n",
    "    BlogPost.objects.bulk_create(new_data)"
   ]
  },
  {
   "cell_type": "code",
   "execution_count": 5,
   "id": "5ca93a4e-3a38-450f-8ff2-0e556ca08814",
   "metadata": {},
   "outputs": [
    {
     "data": {
      "text/plain": [
       "4"
      ]
     },
     "execution_count": 5,
     "metadata": {},
     "output_type": "execute_result"
    }
   ],
   "source": [
    "qs = BlogPost.objects.filter(can_delete=True)\n",
    "qs.count()"
   ]
  },
  {
   "cell_type": "code",
   "execution_count": 6,
   "id": "7c2be94a-b5f6-4954-a0d5-5c346006c6da",
   "metadata": {},
   "outputs": [],
   "source": [
    "client = OpenAI(\n",
    "    api_key=config(\"OPENAI_API_KEY\")\n",
    ")"
   ]
  },
  {
   "cell_type": "code",
   "execution_count": 7,
   "id": "0723b843-075c-4730-bd68-03c1d4c80fa3",
   "metadata": {},
   "outputs": [],
   "source": [
    "def get_embedding(text, model=EMEDDING_MODEL):\n",
    "    text = text.replace(\"\\n\", \" \").strip()\n",
    "    return client.embeddings.create(input=[text], model=model).data[0].embedding"
   ]
  },
  {
   "cell_type": "code",
   "execution_count": 8,
   "id": "9452e908-3231-4f4e-877c-20f17537da4d",
   "metadata": {},
   "outputs": [
    {
     "data": {
      "text/plain": [
       "'text-embedding-3-small'"
      ]
     },
     "execution_count": 8,
     "metadata": {},
     "output_type": "execute_result"
    }
   ],
   "source": [
    "EMEDDING_MODEL"
   ]
  },
  {
   "cell_type": "code",
   "execution_count": 9,
   "id": "bad94fd7-d990-4cd8-a035-4b6502160c2b",
   "metadata": {},
   "outputs": [],
   "source": [
    "for obj in qs:\n",
    "    if obj.embedding is None:\n",
    "        obj.embedding = get_embedding(obj.get_embedding_text_raw())\n",
    "        obj.save()"
   ]
  },
  {
   "cell_type": "code",
   "execution_count": 21,
   "id": "dbbb0a69-55b8-4cc2-a9d9-4d361b449f33",
   "metadata": {},
   "outputs": [],
   "source": [
    "query = \"The dog jumped over the green cow\"\n",
    "# query = \"The dog jumped over the cat\"\n",
    "query_embedding = get_embedding(query)"
   ]
  },
  {
   "cell_type": "code",
   "execution_count": 22,
   "id": "140fbd78-ab74-449b-9138-468ea5714ab1",
   "metadata": {},
   "outputs": [
    {
     "name": "stdout",
     "output_type": "stream",
     "text": [
      "Blog Post 2 0.2821284104662174 71.78715895337827\n",
      "Blog Post 1 0.2862588550525559 71.37411449474442\n"
     ]
    }
   ],
   "source": [
    "from pgvector.django import CosineDistance\n",
    "from django.db.models import F\n",
    "\n",
    "qs = BlogPost.objects.annotate(\n",
    "    distance=CosineDistance('embedding',query_embedding),\n",
    "    similarity=1 - F(\"distance\")\n",
    ").order_by(\"distance\")[:2]\n",
    "for obj in qs:\n",
    "    print(obj.title, obj.distance, obj.similarity * 100)"
   ]
  },
  {
   "cell_type": "code",
   "execution_count": null,
   "id": "1906176d-73c3-43db-9f2b-2a6f357ceb8b",
   "metadata": {},
   "outputs": [],
   "source": []
  }
 ],
 "metadata": {
  "kernelspec": {
   "display_name": "Python 3 (ipykernel)",
   "language": "python",
   "name": "python3"
  },
  "language_info": {
   "codemirror_mode": {
    "name": "ipython",
    "version": 3
   },
   "file_extension": ".py",
   "mimetype": "text/x-python",
   "name": "python",
   "nbconvert_exporter": "python",
   "pygments_lexer": "ipython3",
   "version": "3.11.8"
  }
 },
 "nbformat": 4,
 "nbformat_minor": 5
}

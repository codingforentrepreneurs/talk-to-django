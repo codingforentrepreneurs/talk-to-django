{
 "cells": [
  {
   "cell_type": "code",
   "execution_count": 1,
   "id": "e094b89c-fd72-402a-8985-2ba56af8f609",
   "metadata": {},
   "outputs": [],
   "source": [
    "import setup\n",
    "\n",
    "setup.init_django()"
   ]
  },
  {
   "cell_type": "code",
   "execution_count": 2,
   "id": "acffb2ef-bfc9-458e-bbac-fa19371208e4",
   "metadata": {},
   "outputs": [],
   "source": [
    "from openai import OpenAI\n",
    "from products.models import Embedding\n",
    "from decouple import config\n",
    "EMEDDING_MODEL=config(\"EMEDDING_MODEL\", default=\"text-embedding-3-small\")\n",
    "RECREATE_DATA=True"
   ]
  },
  {
   "cell_type": "code",
   "execution_count": 3,
   "id": "e3c02b1f-54a2-43e9-be63-b38f08ce4853",
   "metadata": {},
   "outputs": [],
   "source": [
    "client = OpenAI(\n",
    "    api_key=config(\"OPENAI_API_KEY\")\n",
    ")\n",
    "def get_embedding(text, model=EMEDDING_MODEL):\n",
    "    text = text.replace(\"\\n\", \" \").strip()\n",
    "    return client.embeddings.create(input=[text], model=model).data[0].embedding"
   ]
  },
  {
   "cell_type": "code",
   "execution_count": 6,
   "id": "dbbb0a69-55b8-4cc2-a9d9-4d361b449f33",
   "metadata": {},
   "outputs": [],
   "source": [
    "query = \"The dog jumped over the green cow\"\n",
    "# query = \"The dog jumped over the cat\"\n",
    "query_embedding = get_embedding(query)\n",
    "# query_embedding"
   ]
  },
  {
   "cell_type": "code",
   "execution_count": 9,
   "id": "140fbd78-ab74-449b-9138-468ea5714ab1",
   "metadata": {},
   "outputs": [
    {
     "name": "stdout",
     "output_type": "stream",
     "text": [
      "28 28 Blog Post 4 0.615726500749588 38.4273499250412\n",
      "1 1 Random not real product 0.615726500749588 38.4273499250412\n"
     ]
    }
   ],
   "source": [
    "from pgvector.django import CosineDistance\n",
    "from django.db.models import F\n",
    "\n",
    "qs = Embedding.objects.annotate(\n",
    "    distance=CosineDistance('embedding',query_embedding),\n",
    "    similarity=1 - F(\"distance\")\n",
    ").order_by(\"distance\")[:2]\n",
    "for obj in qs:\n",
    "    print(obj.object_id, obj.content_object.id, obj.content_object.title, obj.distance, obj.similarity * 100)"
   ]
  },
  {
   "cell_type": "code",
   "execution_count": null,
   "id": "1906176d-73c3-43db-9f2b-2a6f357ceb8b",
   "metadata": {},
   "outputs": [],
   "source": []
  }
 ],
 "metadata": {
  "kernelspec": {
   "display_name": "Python 3 (ipykernel)",
   "language": "python",
   "name": "python3"
  },
  "language_info": {
   "codemirror_mode": {
    "name": "ipython",
    "version": 3
   },
   "file_extension": ".py",
   "mimetype": "text/x-python",
   "name": "python",
   "nbconvert_exporter": "python",
   "pygments_lexer": "ipython3",
   "version": "3.11.8"
  }
 },
 "nbformat": 4,
 "nbformat_minor": 5
}

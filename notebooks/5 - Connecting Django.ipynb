{
 "cells": [
  {
   "cell_type": "code",
   "execution_count": null,
   "id": "e094b89c-fd72-402a-8985-2ba56af8f609",
   "metadata": {},
   "outputs": [],
   "source": [
    "import setup\n",
    "\n",
    "setup.init_django()"
   ]
  },
  {
   "cell_type": "code",
   "execution_count": null,
   "id": "acffb2ef-bfc9-458e-bbac-fa19371208e4",
   "metadata": {},
   "outputs": [],
   "source": [
    "from blog.models import BlogPost"
   ]
  },
  {
   "cell_type": "code",
   "execution_count": null,
   "id": "b85be6b1-1cc6-4d45-beba-809d37e47dc2",
   "metadata": {},
   "outputs": [],
   "source": [
    "qs = BlogPost.objects.all()"
   ]
  },
  {
   "cell_type": "code",
   "execution_count": null,
   "id": "bd56202a-bb40-4c99-bb67-a7e2eba6dc29",
   "metadata": {},
   "outputs": [],
   "source": [
    "qs"
   ]
  },
  {
   "cell_type": "code",
   "execution_count": null,
   "id": "7622db10-7632-45b9-b5ce-8ac2c6d2d50a",
   "metadata": {},
   "outputs": [],
   "source": []
  }
 ],
 "metadata": {
  "kernelspec": {
   "display_name": "Python 3 (ipykernel)",
   "language": "python",
   "name": "python3"
  },
  "language_info": {
   "codemirror_mode": {
    "name": "ipython",
    "version": 3
   },
   "file_extension": ".py",
   "mimetype": "text/x-python",
   "name": "python",
   "nbconvert_exporter": "python",
   "pygments_lexer": "ipython3",
   "version": "3.11.8"
  }
 },
 "nbformat": 4,
 "nbformat_minor": 5
}

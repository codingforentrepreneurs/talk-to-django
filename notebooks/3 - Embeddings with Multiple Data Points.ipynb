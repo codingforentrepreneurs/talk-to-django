{
 "cells": [
  {
   "cell_type": "code",
   "execution_count": 1,
   "id": "f38bcb2a-d951-4b34-9978-0f84eef2930e",
   "metadata": {},
   "outputs": [
    {
     "name": "stderr",
     "output_type": "stream",
     "text": [
      "/Users/cfe/Dev/talk-to-django/venv/lib/python3.11/site-packages/sentence_transformers/cross_encoder/CrossEncoder.py:11: TqdmExperimentalWarning: Using `tqdm.autonotebook.tqdm` in notebook mode. Use `tqdm.tqdm` instead to force console mode (e.g. in jupyter console)\n",
      "  from tqdm.autonotebook import tqdm, trange\n"
     ]
    }
   ],
   "source": [
    "import numpy as np\n",
    "from sentence_transformers import SentenceTransformer"
   ]
  },
  {
   "cell_type": "code",
   "execution_count": 2,
   "id": "b2e6aea1-68f6-49cd-855a-31345d1e058b",
   "metadata": {},
   "outputs": [],
   "source": [
    "model = SentenceTransformer(\"all-MiniLM-L6-v2\")"
   ]
  },
  {
   "cell_type": "code",
   "execution_count": 12,
   "id": "87bca28d-5202-49f2-ae6f-7c2461e243cd",
   "metadata": {},
   "outputs": [],
   "source": [
    "data = [1,2,3,4,5,6,7]\n",
    "query = 5.3 # 97% match to 5"
   ]
  },
  {
   "cell_type": "code",
   "execution_count": 14,
   "id": "f5fb3278-e22e-46c9-8287-1ec71886db8c",
   "metadata": {},
   "outputs": [],
   "source": [
    "# data.index(query)"
   ]
  },
  {
   "cell_type": "code",
   "execution_count": 26,
   "id": "7f6ca091-f29a-4445-a168-4aaef829325d",
   "metadata": {},
   "outputs": [],
   "source": [
    "docs = [\n",
    "    \"The dog jumped over the cat\", \n",
    "    \"The cat jumped over the dog\",\n",
    "    \"It is very warm today\",\n",
    "    \"The cat is yellow and the dog is red\",\n",
    "]"
   ]
  },
  {
   "cell_type": "code",
   "execution_count": null,
   "id": "8739e303-2d98-4b87-b13d-b2e2b0ec218b",
   "metadata": {},
   "outputs": [],
   "source": []
  },
  {
   "cell_type": "code",
   "execution_count": 27,
   "id": "8c92b811-c453-439c-b63e-b2df4edfe2a6",
   "metadata": {},
   "outputs": [],
   "source": [
    "embeddings = model.encode(docs)"
   ]
  },
  {
   "cell_type": "code",
   "execution_count": 28,
   "id": "53fa7db5-0d31-4893-b7ec-4ea4b822f181",
   "metadata": {},
   "outputs": [
    {
     "data": {
      "text/plain": [
       "(4, 384)"
      ]
     },
     "execution_count": 28,
     "metadata": {},
     "output_type": "execute_result"
    }
   ],
   "source": [
    "embeddings.shape"
   ]
  },
  {
   "cell_type": "code",
   "execution_count": 29,
   "id": "d002cdd4-61cc-46a1-8ef4-4da7a1a8cb5c",
   "metadata": {},
   "outputs": [],
   "source": [
    "query = \"The cat is yellow and the dog is purple\""
   ]
  },
  {
   "cell_type": "code",
   "execution_count": 30,
   "id": "943b41ed-4486-4e97-a741-3753a1c98dd7",
   "metadata": {},
   "outputs": [
    {
     "data": {
      "text/plain": [
       "tensor([[0.5122],\n",
       "        [0.5164],\n",
       "        [0.0782],\n",
       "        [0.9099]])"
      ]
     },
     "execution_count": 30,
     "metadata": {},
     "output_type": "execute_result"
    }
   ],
   "source": [
    "model.similarity(embeddings, model.encode([query]))"
   ]
  },
  {
   "cell_type": "code",
   "execution_count": null,
   "id": "4d3f1589-9ff8-4fd3-87ce-743ff4cd56b7",
   "metadata": {},
   "outputs": [],
   "source": []
  }
 ],
 "metadata": {
  "kernelspec": {
   "display_name": "Python 3 (ipykernel)",
   "language": "python",
   "name": "python3"
  },
  "language_info": {
   "codemirror_mode": {
    "name": "ipython",
    "version": 3
   },
   "file_extension": ".py",
   "mimetype": "text/x-python",
   "name": "python",
   "nbconvert_exporter": "python",
   "pygments_lexer": "ipython3",
   "version": "3.11.8"
  }
 },
 "nbformat": 4,
 "nbformat_minor": 5
}

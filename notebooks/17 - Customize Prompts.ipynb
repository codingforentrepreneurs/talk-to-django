{
 "cells": [
  {
   "cell_type": "code",
   "execution_count": null,
   "id": "940f26d4-29c0-4488-a590-b38592563b89",
   "metadata": {},
   "outputs": [],
   "source": [
    "import setup\n",
    "\n",
    "setup.init_django()"
   ]
  },
  {
   "cell_type": "code",
   "execution_count": null,
   "id": "7de1120e-935f-425c-8b07-f844861f1942",
   "metadata": {},
   "outputs": [],
   "source": [
    "from decouple import config"
   ]
  },
  {
   "cell_type": "code",
   "execution_count": null,
   "id": "47b39382-a884-49c0-9440-1dcd0b68ccb5",
   "metadata": {},
   "outputs": [],
   "source": [
    "from rag import db as rag_db, settings as rag_settings, engines as rag_engines"
   ]
  },
  {
   "cell_type": "code",
   "execution_count": null,
   "id": "f30419da-7e57-4210-857d-b359767e9cc1",
   "metadata": {},
   "outputs": [],
   "source": [
    "rag_settings.init()\n",
    "semantic_query_engine = rag_engines.get_semantic_query_engine()\n",
    "sql_query_engine = rag_engines.get_sql_query_engine(sql_only=True)"
   ]
  },
  {
   "cell_type": "code",
   "execution_count": null,
   "id": "1f0058f5-0598-4dfa-9ff0-fd2c60fbe9f1",
   "metadata": {},
   "outputs": [],
   "source": [
    "print_default_prompts = True"
   ]
  },
  {
   "cell_type": "code",
   "execution_count": null,
   "id": "577a4dc1-5fcb-45e7-b74d-40e404c17318",
   "metadata": {},
   "outputs": [],
   "source": [
    "prompts_dict = sql_query_engine.get_prompts()\n",
    "\n",
    "if print_default_prompts:\n",
    "    print(prompts_dict['response_synthesis_prompt'].template)"
   ]
  },
  {
   "cell_type": "code",
   "execution_count": null,
   "id": "708feb74-d5c7-48e7-9b5f-96b91eb26114",
   "metadata": {},
   "outputs": [],
   "source": [
    "if print_default_prompts:\n",
    "    print(sql_query_engine.sql_retriever.get_prompts()['text_to_sql_prompt'].template)"
   ]
  },
  {
   "cell_type": "code",
   "execution_count": null,
   "id": "89f98fa3-4898-4cab-bcae-9b7a16f1cb34",
   "metadata": {},
   "outputs": [],
   "source": [
    "from llama_index.core import PromptTemplate"
   ]
  },
  {
   "cell_type": "code",
   "execution_count": null,
   "id": "36a85106-f24c-4399-acaa-142f02693f43",
   "metadata": {},
   "outputs": [],
   "source": [
    "custom_sql_prompt = PromptTemplate(\"\"\"Given an input question, create a precise {dialect} PostgreSQL query to answer it. Follow these guidelines:\n",
    "\n",
    "1. Use only tables and columns from the provided schema.\n",
    "2. Select only relevant columns, never all columns.\n",
    "3. Qualify column names with table names when necessary.\n",
    "4. Use appropriate JOINs, WHERE clauses, and aggregations.\n",
    "5. Order results to highlight the most pertinent information.\n",
    "6. Avoid querying non-existent columns or tables.\n",
    "7. Optimize the query for performance where possible.\n",
    "\n",
    "Your response should contain only the SQL query, without any additional explanation or formatting. Do not use markdown or prepend the query with the term `sql`.\n",
    "\n",
    "Schema:\n",
    "{schema}\n",
    "\n",
    "Question: {query_str}\n",
    "SQL Query:\n",
    "\"\"\")"
   ]
  },
  {
   "cell_type": "code",
   "execution_count": null,
   "id": "f6f92429-977f-4171-9df2-5b719ed69ba8",
   "metadata": {},
   "outputs": [],
   "source": [
    "custom_response_synthesis_prompt = PromptTemplate(\"\"\"Given an input question, synthesize a response from the query results.\n",
    "Query: {query_str}\n",
    "SQL: {sql_query}\n",
    "SQL Response: {context_str}\n",
    "Response: \n",
    "\"\"\")"
   ]
  },
  {
   "cell_type": "code",
   "execution_count": null,
   "id": "9d168d4b-90cb-448f-9986-bd89fe46d249",
   "metadata": {},
   "outputs": [],
   "source": [
    "custom_response_synthesis_prompt.template_vars"
   ]
  },
  {
   "cell_type": "code",
   "execution_count": null,
   "id": "cab7d9b7-8bfc-49a7-9d55-4418166a485d",
   "metadata": {},
   "outputs": [],
   "source": [
    "sql_query_engine = rag_engines.get_sql_query_engine(\n",
    "    sql_only=False,\n",
    "    synthesize_response=True\n",
    ")"
   ]
  },
  {
   "cell_type": "code",
   "execution_count": null,
   "id": "6ce8fc88-4ce0-40e4-a6a6-b213d42a45d9",
   "metadata": {},
   "outputs": [],
   "source": [
    "# print(sql_query_engine.sql_retriever.get_prompts()['text_to_sql_prompt'].template)"
   ]
  },
  {
   "cell_type": "code",
   "execution_count": null,
   "id": "4bd53412-5601-4af3-b705-28f47f5ad691",
   "metadata": {},
   "outputs": [],
   "source": [
    "response = sql_query_engine.query(\"What blog post has the most views from today?\")\n",
    "print(str(response))"
   ]
  },
  {
   "cell_type": "code",
   "execution_count": null,
   "id": "14020123-622c-4b9f-b9a6-92333c965dd3",
   "metadata": {},
   "outputs": [],
   "source": [
    "for node in response.source_nodes:\n",
    "    print(node.node.get_content())"
   ]
  },
  {
   "cell_type": "code",
   "execution_count": null,
   "id": "90410ef3-2a54-4790-98e2-dbe6207310e3",
   "metadata": {},
   "outputs": [],
   "source": []
  },
  {
   "cell_type": "code",
   "execution_count": null,
   "id": "217508cb-e6c9-4cfc-a3fa-ead86bc22d4f",
   "metadata": {},
   "outputs": [],
   "source": []
  }
 ],
 "metadata": {
  "kernelspec": {
   "display_name": "Python 3 (ipykernel)",
   "language": "python",
   "name": "python3"
  },
  "language_info": {
   "codemirror_mode": {
    "name": "ipython",
    "version": 3
   },
   "file_extension": ".py",
   "mimetype": "text/x-python",
   "name": "python",
   "nbconvert_exporter": "python",
   "pygments_lexer": "ipython3",
   "version": "3.11.8"
  }
 },
 "nbformat": 4,
 "nbformat_minor": 5
}

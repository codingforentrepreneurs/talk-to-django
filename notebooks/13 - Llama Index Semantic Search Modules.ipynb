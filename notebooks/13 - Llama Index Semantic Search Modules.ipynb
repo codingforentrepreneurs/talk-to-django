{
 "cells": [
  {
   "cell_type": "code",
   "execution_count": 1,
   "id": "c5ddf7b8-af88-4ce2-9e93-3c3a1e8f5905",
   "metadata": {},
   "outputs": [],
   "source": [
    "import setup\n",
    "\n",
    "setup.init_django()"
   ]
  },
  {
   "cell_type": "code",
   "execution_count": 2,
   "id": "d6a815a3-2c20-4459-b857-6aa6b7391ae7",
   "metadata": {},
   "outputs": [
    {
     "name": "stdout",
     "output_type": "stream",
     "text": [
      "Syncing 4 docs\n",
      "Sync done.\n"
     ]
    }
   ],
   "source": [
    "from rag import engines, sync\n",
    "\n",
    "sync.sync_blog_docs()"
   ]
  },
  {
   "cell_type": "code",
   "execution_count": 3,
   "id": "24f74377-4413-4f7e-a01d-eeb7597ee61d",
   "metadata": {},
   "outputs": [],
   "source": [
    "query_engine = engines.get_semantic_query_engine()"
   ]
  },
  {
   "cell_type": "code",
   "execution_count": 4,
   "id": "ac911eb0-f9fe-4418-a2d8-c3a12d1c682a",
   "metadata": {},
   "outputs": [
    {
     "name": "stdout",
     "output_type": "stream",
     "text": [
      "Hello! How can I assist you today?\n"
     ]
    }
   ],
   "source": [
    "response = query_engine.query(\"hi there\")\n",
    "print(response.response)"
   ]
  },
  {
   "cell_type": "code",
   "execution_count": 5,
   "id": "da1125b8-b8ef-48b4-b15d-8c7e2fd2b7df",
   "metadata": {},
   "outputs": [
    {
     "name": "stdout",
     "output_type": "stream",
     "text": [
      "Score 0.6115641593933149\n",
      "Contents The cat jumped over the dog\n",
      "Metadata {'pk': 35, 'title': 'Blog Post 2'}\n",
      "Score 0.6085933809634089\n",
      "Contents The dog jumped over the cat\n",
      "Metadata {'pk': 34, 'title': 'Blog Post 1'}\n"
     ]
    }
   ],
   "source": [
    "response = query_engine.query(\"Dog jumping\")\n",
    "nodes = response.source_nodes\n",
    "\n",
    "for node in response.source_nodes:\n",
    "    print(\"Score\", node.score)\n",
    "    print(\"Contents\", node.node.get_content())\n",
    "    print(\"Metadata\", node.node.metadata)"
   ]
  },
  {
   "cell_type": "code",
   "execution_count": 6,
   "id": "712a2237-7740-4989-a41e-f25b73ae2952",
   "metadata": {},
   "outputs": [],
   "source": [
    "query_retriever_engine = engines.get_semantic_query_retriever_engine(top_k=5)"
   ]
  },
  {
   "cell_type": "code",
   "execution_count": 7,
   "id": "3ac5c76d-da82-4c7f-8fd9-94560d9b7ec5",
   "metadata": {},
   "outputs": [],
   "source": [
    "ranked_response = query_retriever_engine.query(\"Dog jumping\")"
   ]
  },
  {
   "cell_type": "code",
   "execution_count": 8,
   "id": "93c22326-6ba9-4d07-a286-ecc3ee8e23c1",
   "metadata": {},
   "outputs": [
    {
     "name": "stdout",
     "output_type": "stream",
     "text": [
      "Score 0.6115641593933149\n",
      "Contents The cat jumped over the dog\n",
      "Metadata {'pk': 35, 'title': 'Blog Post 2'}\n",
      "Score 0.6085933809634089\n",
      "Contents The dog jumped over the cat\n",
      "Metadata {'pk': 34, 'title': 'Blog Post 1'}\n",
      "Score 0.3220669819156523\n",
      "Contents The cat is yellow and the dog is red\n",
      "Metadata {'pk': 37, 'title': 'Blog Post 4'}\n",
      "Score 0.15181733082636206\n",
      "Contents It is very warm today\n",
      "Metadata {'pk': 36, 'title': 'Blog Post 3'}\n"
     ]
    }
   ],
   "source": [
    "for node in ranked_response.source_nodes:\n",
    "    print(\"Score\", node.score)\n",
    "    print(\"Contents\", node.node.get_content())\n",
    "    print(\"Metadata\", node.node.metadata)"
   ]
  },
  {
   "cell_type": "code",
   "execution_count": null,
   "id": "d1c1fb26-fe3a-4ee3-91e5-ba3e643f859d",
   "metadata": {},
   "outputs": [],
   "source": []
  }
 ],
 "metadata": {
  "kernelspec": {
   "display_name": "Python 3 (ipykernel)",
   "language": "python",
   "name": "python3"
  },
  "language_info": {
   "codemirror_mode": {
    "name": "ipython",
    "version": 3
   },
   "file_extension": ".py",
   "mimetype": "text/x-python",
   "name": "python",
   "nbconvert_exporter": "python",
   "pygments_lexer": "ipython3",
   "version": "3.11.8"
  }
 },
 "nbformat": 4,
 "nbformat_minor": 5
}

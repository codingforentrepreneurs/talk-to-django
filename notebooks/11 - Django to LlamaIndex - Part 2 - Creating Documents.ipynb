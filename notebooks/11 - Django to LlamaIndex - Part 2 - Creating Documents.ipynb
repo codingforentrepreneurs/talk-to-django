{
 "cells": [
  {
   "cell_type": "code",
   "execution_count": 1,
   "id": "2b5f7338-de48-48b2-a2ce-956150fabd56",
   "metadata": {},
   "outputs": [],
   "source": [
    "import setup\n",
    "\n",
    "setup.init_django()"
   ]
  },
  {
   "cell_type": "code",
   "execution_count": 2,
   "id": "1e3a536a-02b6-4243-97ba-751815314c37",
   "metadata": {},
   "outputs": [],
   "source": [
    "from decouple import config\n",
    "from blog.models import BlogPost\n",
    "from blog import services"
   ]
  },
  {
   "cell_type": "code",
   "execution_count": 3,
   "id": "b66c90da-a020-4ab6-8f77-7b2797d17e68",
   "metadata": {},
   "outputs": [],
   "source": [
    "# qs = BlogPost.objects.filter(can_delete=True)\n",
    "# qs"
   ]
  },
  {
   "cell_type": "code",
   "execution_count": 4,
   "id": "7436777e-4817-4f18-84ec-1e6975000e0c",
   "metadata": {},
   "outputs": [],
   "source": [
    "# !pip install llama-index sqlalchemy llama-index-vector-stores-postgres"
   ]
  },
  {
   "cell_type": "code",
   "execution_count": 5,
   "id": "a9f2d465-9e22-40ff-b565-3a06e4c00f61",
   "metadata": {},
   "outputs": [],
   "source": [
    "from llama_index.llms.openai import OpenAI\n",
    "from llama_index.embeddings.openai import OpenAIEmbedding"
   ]
  },
  {
   "cell_type": "code",
   "execution_count": 6,
   "id": "e3f4d9bd-d4d2-41ab-b024-d8c8654f63c7",
   "metadata": {},
   "outputs": [],
   "source": [
    "LLM_MODEL = config(\"LLM_MODEL\", default=\"gpt-4o\") # not in use use\n",
    "EMEDDING_LENGTH = config(\"EMEDDING_LENGTH\", default=1536, cast=int)\n",
    "EMEDDING_MODEL =config(\"EMEDDING_MODEL\", default=\"text-embedding-3-small\")\n",
    "OPENAI_API_KEY = config(\"OPENAI_API_KEY\")\n",
    "\n",
    "llm = OpenAI(model=LLM_MODEL, api_key=OPENAI_API_KEY)\n",
    "embed_model = OpenAIEmbedding(model=EMEDDING_MODEL, api_key=OPENAI_API_KEY)"
   ]
  },
  {
   "cell_type": "code",
   "execution_count": 7,
   "id": "cd88f24c-5b04-46ec-b431-eafbbcedad6b",
   "metadata": {},
   "outputs": [],
   "source": [
    "from llama_index.core import Settings\n",
    "\n",
    "Settings.llm = llm\n",
    "Settings.embed_model = embed_model"
   ]
  },
  {
   "cell_type": "code",
   "execution_count": 8,
   "id": "5db2ae42-5719-4213-8336-91319d9d013b",
   "metadata": {},
   "outputs": [],
   "source": [
    "vector_db_name = \"vector_db\"\n",
    "vector_db_table_name = \"blogpost\" # -> data_blogpost"
   ]
  },
  {
   "cell_type": "code",
   "execution_count": 9,
   "id": "466f8d1d-ee71-4c46-96ba-823ccaeb4bc8",
   "metadata": {},
   "outputs": [],
   "source": [
    "DATABASE_URL = config(\"DATABASE_URL_POOL\")\n",
    "if DATABASE_URL.startswith(\"postgres://\"):\n",
    "    DATABASE_URL = DATABASE_URL.replace(\"postgres://\", \"postgresql://\", 1)"
   ]
  },
  {
   "cell_type": "code",
   "execution_count": 10,
   "id": "7571ae4f-9d31-40f9-935a-c44eb8c1bb86",
   "metadata": {},
   "outputs": [],
   "source": [
    "# create a new database\n",
    "from sqlalchemy import create_engine, text\n",
    "\n",
    "engine = create_engine(DATABASE_URL, isolation_level=\"AUTOCOMMIT\")\n",
    "with engine.connect() as connection:\n",
    "    result = connection.execute(text(\"SELECT 1 FROM pg_database WHERE datname = :db_name\"), {\"db_name\": vector_db_name})\n",
    "    db_exists = result.scalar() == 1\n",
    "    if not db_exists:\n",
    "        session.execute(text('CREATE EXTENSION IF NOT EXISTS vector'))\n",
    "        connection.execute(text(f\"CREATE DATABASE {vector_db_name}\"))"
   ]
  },
  {
   "cell_type": "code",
   "execution_count": 11,
   "id": "2aaea3c8-d241-41c7-aa8a-ade68da9fda6",
   "metadata": {},
   "outputs": [],
   "source": [
    "from sqlalchemy import make_url\n",
    "from llama_index.vector_stores.postgres import PGVectorStore\n",
    "\n",
    "url = make_url(DATABASE_URL)\n",
    "vector_store = PGVectorStore.from_params(\n",
    "    database=vector_db_name,\n",
    "    host=url.host,\n",
    "    password=url.password,\n",
    "    port=url.port or 5432,\n",
    "    user=url.username,\n",
    "    table_name=vector_db_table_name,\n",
    "    embed_dim=EMEDDING_LENGTH,\n",
    ")"
   ]
  },
  {
   "cell_type": "code",
   "execution_count": 12,
   "id": "69d03215-8be1-4c37-87a9-8e9d2adb5d11",
   "metadata": {},
   "outputs": [],
   "source": [
    "from llama_index.core import VectorStoreIndex, StorageContext\n",
    "\n",
    "storage_context = StorageContext.from_defaults(vector_store=vector_store)\n",
    "index = VectorStoreIndex.from_vector_store(vector_store, storage_context=storage_context)\n",
    "query_engine = index.as_query_engine()"
   ]
  },
  {
   "cell_type": "code",
   "execution_count": 13,
   "id": "fd4da322-844c-4d33-b389-c2af636a8c18",
   "metadata": {},
   "outputs": [
    {
     "data": {
      "text/plain": [
       "Response(response='Empty Response', source_nodes=[], metadata=None)"
      ]
     },
     "execution_count": 13,
     "metadata": {},
     "output_type": "execute_result"
    }
   ],
   "source": []
  },
  {
   "cell_type": "code",
   "execution_count": 27,
   "id": "dcc9e537-494b-4ef7-94ad-ba1460341e64",
   "metadata": {},
   "outputs": [
    {
     "data": {
      "text/plain": [
       "[Document(id_='34', embedding=None, metadata={'pk': 34, 'title': 'Blog Post 1'}, excluded_embed_metadata_keys=[], excluded_llm_metadata_keys=[], relationships={}, text='The dog jumped over the cat', mimetype='text/plain', start_char_idx=None, end_char_idx=None, text_template='{metadata_str}\\n\\n{content}', metadata_template='{key}: {value}', metadata_seperator='\\n'),\n",
       " Document(id_='35', embedding=None, metadata={'pk': 35, 'title': 'Blog Post 2'}, excluded_embed_metadata_keys=[], excluded_llm_metadata_keys=[], relationships={}, text='The cat jumped over the dog', mimetype='text/plain', start_char_idx=None, end_char_idx=None, text_template='{metadata_str}\\n\\n{content}', metadata_template='{key}: {value}', metadata_seperator='\\n'),\n",
       " Document(id_='36', embedding=None, metadata={'pk': 36, 'title': 'Blog Post 3'}, excluded_embed_metadata_keys=[], excluded_llm_metadata_keys=[], relationships={}, text='It is very warm today', mimetype='text/plain', start_char_idx=None, end_char_idx=None, text_template='{metadata_str}\\n\\n{content}', metadata_template='{key}: {value}', metadata_seperator='\\n'),\n",
       " Document(id_='37', embedding=None, metadata={'pk': 37, 'title': 'Blog Post 4'}, excluded_embed_metadata_keys=[], excluded_llm_metadata_keys=[], relationships={}, text='The cat is yellow and the dog is red', mimetype='text/plain', start_char_idx=None, end_char_idx=None, text_template='{metadata_str}\\n\\n{content}', metadata_template='{key}: {value}', metadata_seperator='\\n')]"
      ]
     },
     "execution_count": 27,
     "metadata": {},
     "output_type": "execute_result"
    }
   ],
   "source": [
    "from llama_index.core import Document\n",
    "\n",
    "docs = []\n",
    "qs = BlogPost.objects.filter(can_delete=True)\n",
    "for obj in qs:\n",
    "    docs.append(\n",
    "        Document(\n",
    "            text=f\"{obj.get_embedding_text_raw()}\",\n",
    "            doc_id=str(obj.id),\n",
    "            metadata = {\n",
    "                \"pk\": obj.pk,\n",
    "                \"title\": obj.title\n",
    "            }\n",
    "        )\n",
    "    )\n",
    "\n",
    "docs"
   ]
  },
  {
   "cell_type": "code",
   "execution_count": 28,
   "id": "5890e396-f2f0-456e-8b12-48b8e06a7c95",
   "metadata": {},
   "outputs": [],
   "source": [
    "for doc in docs:\n",
    "    index.delete_ref_doc(f\"{doc.id_}\", delete_from_docstore=True)\n",
    "    index.insert(doc)"
   ]
  },
  {
   "cell_type": "code",
   "execution_count": 29,
   "id": "130ead94-e6a6-4566-b673-c185b8f9b7f8",
   "metadata": {},
   "outputs": [],
   "source": [
    "response = query_engine.query(\"The dog jumped\")"
   ]
  },
  {
   "cell_type": "code",
   "execution_count": 36,
   "id": "fff374aa-4331-4f48-96eb-cb8c0cb76cf8",
   "metadata": {},
   "outputs": [
    {
     "name": "stdout",
     "output_type": "stream",
     "text": [
      "pk 34\n",
      "title Blog Post 1\n",
      "pk 35\n",
      "title Blog Post 2\n"
     ]
    }
   ],
   "source": [
    "for k in response.metadata.keys():\n",
    "    for subk, v in response.metadata[k].items():\n",
    "        print(subk, v)"
   ]
  },
  {
   "cell_type": "code",
   "execution_count": null,
   "id": "dee1dd1a-1605-43ad-8d88-09c8a311082a",
   "metadata": {},
   "outputs": [],
   "source": []
  }
 ],
 "metadata": {
  "kernelspec": {
   "display_name": "Python 3 (ipykernel)",
   "language": "python",
   "name": "python3"
  },
  "language_info": {
   "codemirror_mode": {
    "name": "ipython",
    "version": 3
   },
   "file_extension": ".py",
   "mimetype": "text/x-python",
   "name": "python",
   "nbconvert_exporter": "python",
   "pygments_lexer": "ipython3",
   "version": "3.11.8"
  }
 },
 "nbformat": 4,
 "nbformat_minor": 5
}

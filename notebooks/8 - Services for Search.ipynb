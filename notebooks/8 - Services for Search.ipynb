{
 "cells": [
  {
   "cell_type": "code",
   "execution_count": 3,
   "id": "e094b89c-fd72-402a-8985-2ba56af8f609",
   "metadata": {},
   "outputs": [],
   "source": [
    "import setup\n",
    "\n",
    "setup.init_django()"
   ]
  },
  {
   "cell_type": "code",
   "execution_count": 4,
   "id": "77cc299d-ba3b-4b87-8eae-a81b3ebb1813",
   "metadata": {},
   "outputs": [],
   "source": [
    "from blog import services"
   ]
  },
  {
   "cell_type": "code",
   "execution_count": 5,
   "id": "1906176d-73c3-43db-9f2b-2a6f357ceb8b",
   "metadata": {},
   "outputs": [],
   "source": [
    "results = services.search_posts(\"This is amazing\")"
   ]
  },
  {
   "cell_type": "code",
   "execution_count": 7,
   "id": "99f1d145-65fc-4193-a820-d915fb176a54",
   "metadata": {},
   "outputs": [
    {
     "data": {
      "text/plain": [
       "0.2951098856395462"
      ]
     },
     "execution_count": 7,
     "metadata": {},
     "output_type": "execute_result"
    }
   ],
   "source": [
    "results.first().similarity"
   ]
  },
  {
   "cell_type": "code",
   "execution_count": null,
   "id": "cb8372e0-42f7-4474-95db-e95d996c0c52",
   "metadata": {},
   "outputs": [],
   "source": []
  }
 ],
 "metadata": {
  "kernelspec": {
   "display_name": "Python 3 (ipykernel)",
   "language": "python",
   "name": "python3"
  },
  "language_info": {
   "codemirror_mode": {
    "name": "ipython",
    "version": 3
   },
   "file_extension": ".py",
   "mimetype": "text/x-python",
   "name": "python",
   "nbconvert_exporter": "python",
   "pygments_lexer": "ipython3",
   "version": "3.11.8"
  }
 },
 "nbformat": 4,
 "nbformat_minor": 5
}

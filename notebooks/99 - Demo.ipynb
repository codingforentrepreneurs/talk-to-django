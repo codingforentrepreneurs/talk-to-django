{
 "cells": [
  {
   "cell_type": "code",
   "execution_count": 1,
   "id": "8dd700e2-34e8-4c9a-803c-0270c0f7c9f8",
   "metadata": {},
   "outputs": [],
   "source": [
    "import setup\n",
    "\n",
    "setup.init_django()"
   ]
  },
  {
   "cell_type": "code",
   "execution_count": 2,
   "id": "f5adc0e1-26f7-4430-9de7-0a2df550063c",
   "metadata": {},
   "outputs": [],
   "source": [
    "from rag import (\n",
    "    db as rag_db, \n",
    "    engines as rag_engines,\n",
    "    settings as rag_settings, \n",
    "    updaters as rag_updaters,\n",
    "    patches as rag_patches,\n",
    ")"
   ]
  },
  {
   "cell_type": "code",
   "execution_count": 3,
   "id": "ba98d441-cc40-441f-b695-4f950bcfc130",
   "metadata": {},
   "outputs": [],
   "source": [
    "from typing import Optional, Union\n",
    "from sqlalchemy import create_engine, text"
   ]
  },
  {
   "cell_type": "code",
   "execution_count": 4,
   "id": "bca05a98-dca8-4c61-be99-533eb9511039",
   "metadata": {},
   "outputs": [],
   "source": [
    "rag_settings.init()\n",
    "rag_db.init_vector_db()\n",
    "rag_updaters.update_llama_index_documents(use_saved_embeddings=True)"
   ]
  },
  {
   "cell_type": "code",
   "execution_count": 5,
   "id": "d31ead22-ac7b-4174-b2cb-4086a6459473",
   "metadata": {},
   "outputs": [],
   "source": [
    "vector_index = rag_engines.get_semantic_query_index()\n",
    "semantic_query_retriever = rag_engines.get_semantic_query_retriever_engine()\n",
    "sql_query_engine = rag_engines.get_sql_query_engine()"
   ]
  },
  {
   "cell_type": "code",
   "execution_count": 6,
   "id": "3a76d593-450d-48fc-bbb6-74e0d2298bca",
   "metadata": {},
   "outputs": [
    {
     "name": "stdout",
     "output_type": "stream",
     "text": [
      "vector_db blogpost\n"
     ]
    }
   ],
   "source": [
    "print(rag_settings.VECTOR_DB_NAME, rag_settings.VECTOR_DB_TABLE_NAME)"
   ]
  },
  {
   "cell_type": "code",
   "execution_count": 7,
   "id": "872f70d5-fd38-4146-9eee-0f4ba554a8d7",
   "metadata": {},
   "outputs": [],
   "source": [
    "from llama_index.core.tools import QueryEngineTool\n",
    "\n",
    "vector_tool = QueryEngineTool.from_defaults(\n",
    "    query_engine=semantic_query_retriever,\n",
    "    description=(\n",
    "        f\"Useful for answering semantic questions about different blog posts\"\n",
    "    ),\n",
    ")"
   ]
  },
  {
   "cell_type": "code",
   "execution_count": 8,
   "id": "0f155a6a-4d60-40e4-b43e-2428a086c8d1",
   "metadata": {},
   "outputs": [],
   "source": [
    "sql_tool = QueryEngineTool.from_defaults(\n",
    "    query_engine=sql_query_engine,\n",
    "    description=(\n",
    "        \"Useful for translating a natural language query into a SQL query over\"\n",
    "        \" a table containing: blog posts and page views each blog post\"\n",
    "    ),\n",
    ")"
   ]
  },
  {
   "cell_type": "code",
   "execution_count": 11,
   "id": "298422a3-bf77-4ade-a79d-e5f3dd69d172",
   "metadata": {},
   "outputs": [],
   "source": [
    "query_engine = rag_patches.MySQLAutoVectorQueryEngine(\n",
    "    sql_tool, \n",
    "    vector_tool,\n",
    ")"
   ]
  },
  {
   "cell_type": "code",
   "execution_count": 12,
   "id": "50961604-48ca-437d-ad24-7ac7855cab96",
   "metadata": {},
   "outputs": [
    {
     "name": "stdout",
     "output_type": "stream",
     "text": [
      "\u001b[1;3;34mQuerying other query engine: The question 'What kind of org is discussed?' is a semantic question about the content of blog posts. Therefore, choice (2) is the most relevant as it is useful for answering semantic questions about different blog posts.\n",
      "\u001b[0m"
     ]
    }
   ],
   "source": [
    "response = query_engine.query(\n",
    "    \"What kind of org is discussed?\"\n",
    ")"
   ]
  },
  {
   "cell_type": "code",
   "execution_count": 13,
   "id": "0af92a90-2914-4172-9c5d-8e3efbbb9c59",
   "metadata": {},
   "outputs": [
    {
     "data": {
      "text/plain": [
       "'The discussion contrasts two types of entities: an organization and an organism. An organization is structured, with systems, charts, and approval processes, while an organism is dynamic, constantly changing, and adapting to its environment. The text suggests that engaging with a culture as part of an organism can lead to better understanding and resilience compared to a traditional organization.'"
      ]
     },
     "execution_count": 13,
     "metadata": {},
     "output_type": "execute_result"
    }
   ],
   "source": [
    "response.response"
   ]
  },
  {
   "cell_type": "code",
   "execution_count": 14,
   "id": "78548bec-2197-42f8-ab50-3d095d1374c0",
   "metadata": {},
   "outputs": [
    {
     "name": "stdout",
     "output_type": "stream",
     "text": [
      "\u001b[1;3;34mQuerying SQL database: The question requires translating a natural language query into a SQL query to retrieve the top 5 most viewed blog posts and analyze their content for keywords. Choice (1) is relevant as it deals with translating queries into SQL over a table containing blog posts and page views.\n",
      "\u001b[0m\u001b[1;3;33mSQL query: SELECT \n",
      "    blog_blogpost.id, \n",
      "    blog_blogpost.title, \n",
      "    blog_blogpost.content, \n",
      "    COUNT(analytics_pageview.id) AS view_count\n",
      "FROM \n",
      "    blog_blogpost\n",
      "JOIN \n",
      "    analytics_pageview ON blog_blogpost.id = analytics_pageview.post_id\n",
      "GROUP BY \n",
      "    blog_blogpost.id, blog_blogpost.title, blog_blogpost.content\n",
      "ORDER BY \n",
      "    view_count DESC\n",
      "LIMIT 5;\n",
      "\u001b[0m\u001b[1;3;33mSQL response: The top 5 most viewed blog posts and their content keywords are as follows:\n",
      "\n",
      "1. **Title:** Taking it very seriously\n",
      "   - **View Count:** 2493\n",
      "   - **Content Keywords:** April first, greeting, New Year’s, internet, smile, pretend, apocalypse\n",
      "\n",
      "2. **Title:** “But we were comfortable”\n",
      "   - **View Count:** 2490\n",
      "   - **Content Keywords:** shift to digital, unwanted, risk, lonely, powerful, efficient, comfortable, follow, stay\n",
      "\n",
      "3. **Title:** All models are wrong, some models are useful\n",
      "   - **View Count:** 2471\n",
      "   - **Content Keywords:** model, map, territory, approximation, problem, organization, opportunity, simplified version\n",
      "\n",
      "4. **Title:** The Fremen principle\n",
      "   - **View Count:** 2391\n",
      "   - **Content Keywords:** new resources, limited resources, population, alternatives, Harvard, distance learning, in-person lectures, tenure, accreditation, waiting list\n",
      "\n",
      "5. **Title:** Portfolio school: Get better clients\n",
      "   - **View Count:** 2383\n",
      "   - **Content Keywords:** tragedy, health, economy, panic, focus, overwhelmed, health care workers, burning the candle\n",
      "\n",
      "These blog posts cover a range of topics from digital transformation and resource management to health and economic challenges, each resonating with a significant number of readers.\n",
      "\u001b[0m\u001b[1;3;34mTransformed query given SQL response: None\n",
      "\u001b[0m"
     ]
    }
   ],
   "source": [
    "response = query_engine.query(\n",
    "    \"Are are the top 5 most viewed blog posts? What keywords do their content have?\"\n",
    ")"
   ]
  },
  {
   "cell_type": "code",
   "execution_count": 15,
   "id": "96f78be4-960a-432c-98db-2c0af2078963",
   "metadata": {},
   "outputs": [
    {
     "data": {
      "text/markdown": [
       "The top 5 most viewed blog posts and their content keywords are as follows:\n",
       "\n",
       "1. **Title:** Taking it very seriously\n",
       "   - **View Count:** 2493\n",
       "   - **Content Keywords:** April first, greeting, New Year’s, internet, smile, pretend, apocalypse\n",
       "\n",
       "2. **Title:** “But we were comfortable”\n",
       "   - **View Count:** 2490\n",
       "   - **Content Keywords:** shift to digital, unwanted, risk, lonely, powerful, efficient, comfortable, follow, stay\n",
       "\n",
       "3. **Title:** All models are wrong, some models are useful\n",
       "   - **View Count:** 2471\n",
       "   - **Content Keywords:** model, map, territory, approximation, problem, organization, opportunity, simplified version\n",
       "\n",
       "4. **Title:** The Fremen principle\n",
       "   - **View Count:** 2391\n",
       "   - **Content Keywords:** new resources, limited resources, population, alternatives, Harvard, distance learning, in-person lectures, tenure, accreditation, waiting list\n",
       "\n",
       "5. **Title:** Portfolio school: Get better clients\n",
       "   - **View Count:** 2383\n",
       "   - **Content Keywords:** tragedy, health, economy, panic, focus, overwhelmed, health care workers, burning the candle\n",
       "\n",
       "These blog posts cover a range of topics from digital transformation and resource management to health and economic challenges, each resonating with a significant number of readers."
      ],
      "text/plain": [
       "<IPython.core.display.Markdown object>"
      ]
     },
     "metadata": {},
     "output_type": "display_data"
    }
   ],
   "source": [
    "from IPython.display import Markdown, display\n",
    "\n",
    "display(Markdown(response.response))"
   ]
  },
  {
   "cell_type": "code",
   "execution_count": 20,
   "id": "9787d4a9-901a-4fc3-a97d-d04fd15b9599",
   "metadata": {},
   "outputs": [
    {
     "name": "stdout",
     "output_type": "stream",
     "text": [
      "\u001b[1;3;34mQuerying SQL database: The question requires translating a natural language query into a SQL query to retrieve the top 5 least viewed blog posts from today. Choice (1) is relevant as it is useful for translating natural language queries into SQL queries over a table containing blog posts and page views.\n",
      "\u001b[0m\u001b[1;3;33mSQL query: SELECT bp.id, bp.title, COUNT(pv.id) AS view_count\n",
      "FROM blog_blogpost bp\n",
      "LEFT JOIN analytics_pageview pv ON bp.id = pv.post_id\n",
      "WHERE pv.timestamp::date = CURRENT_DATE\n",
      "GROUP BY bp.id, bp.title\n",
      "ORDER BY view_count ASC\n",
      "LIMIT 5;\n",
      "\u001b[0m\u001b[1;3;33mSQL response: Based on today's data, here are the top 5 least viewed blog posts:\n",
      "\n",
      "1. **Monopoly and network effects** - 525 views\n",
      "2. **A Sunday book reading** - 558 views\n",
      "3. **Helping leaders in college reboot** - 624 views\n",
      "4. **Is everything going to be okay?** - 648 views\n",
      "5. **You’re surrounded** - 654 views\n",
      "\n",
      "These posts have received the fewest views today.\n",
      "\u001b[0m\u001b[1;3;34mTransformed query given SQL response: None\n",
      "\u001b[0mBased on today's data, here are the top 5 least viewed blog posts:\n",
      "\n",
      "1. **Monopoly and network effects** - 525 views\n",
      "2. **A Sunday book reading** - 558 views\n",
      "3. **Helping leaders in college reboot** - 624 views\n",
      "4. **Is everything going to be okay?** - 648 views\n",
      "5. **You’re surrounded** - 654 views\n",
      "\n",
      "These posts have received the fewest views today.\n"
     ]
    }
   ],
   "source": [
    "response = query_engine.query(\n",
    "    \"What are the top 5 least viewed blog posts from today?\"\n",
    ")\n",
    "print(response.response)"
   ]
  },
  {
   "cell_type": "code",
   "execution_count": 22,
   "id": "90fac10c-1674-49b4-8f5a-73eb4aa43461",
   "metadata": {},
   "outputs": [
    {
     "data": {
      "text/markdown": [
       "Based on today's data, here are the top 5 least viewed blog posts:\n",
       "\n",
       "1. **Monopoly and network effects** - 525 views\n",
       "2. **A Sunday book reading** - 558 views\n",
       "3. **Helping leaders in college reboot** - 624 views\n",
       "4. **Is everything going to be okay?** - 648 views\n",
       "5. **You’re surrounded** - 654 views\n",
       "\n",
       "These posts have received the fewest views today."
      ],
      "text/plain": [
       "<IPython.core.display.Markdown object>"
      ]
     },
     "metadata": {},
     "output_type": "display_data"
    }
   ],
   "source": [
    "display(Markdown(response.response))"
   ]
  },
  {
   "cell_type": "code",
   "execution_count": null,
   "id": "d633c0de-04d7-4232-9151-5b081f7d3e50",
   "metadata": {},
   "outputs": [],
   "source": []
  }
 ],
 "metadata": {
  "kernelspec": {
   "display_name": "Python 3 (ipykernel)",
   "language": "python",
   "name": "python3"
  },
  "language_info": {
   "codemirror_mode": {
    "name": "ipython",
    "version": 3
   },
   "file_extension": ".py",
   "mimetype": "text/x-python",
   "name": "python",
   "nbconvert_exporter": "python",
   "pygments_lexer": "ipython3",
   "version": "3.11.8"
  }
 },
 "nbformat": 4,
 "nbformat_minor": 5
}

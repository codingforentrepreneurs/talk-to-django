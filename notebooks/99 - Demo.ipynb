{
 "cells": [
  {
   "cell_type": "code",
   "execution_count": 1,
   "id": "8dd700e2-34e8-4c9a-803c-0270c0f7c9f8",
   "metadata": {},
   "outputs": [],
   "source": [
    "import setup\n",
    "\n",
    "setup.init_django()"
   ]
  },
  {
   "cell_type": "code",
   "execution_count": 2,
   "id": "f5adc0e1-26f7-4430-9de7-0a2df550063c",
   "metadata": {},
   "outputs": [],
   "source": [
    "from rag import (\n",
    "    db as rag_db, \n",
    "    engines as rag_engines,\n",
    "    settings as rag_settings, \n",
    "    updaters as rag_updaters,\n",
    "    patches as rag_patches,\n",
    ")"
   ]
  },
  {
   "cell_type": "code",
   "execution_count": 3,
   "id": "ba98d441-cc40-441f-b695-4f950bcfc130",
   "metadata": {},
   "outputs": [],
   "source": [
    "from typing import Optional, Union\n",
    "from sqlalchemy import create_engine, text"
   ]
  },
  {
   "cell_type": "code",
   "execution_count": 4,
   "id": "bca05a98-dca8-4c61-be99-533eb9511039",
   "metadata": {},
   "outputs": [],
   "source": [
    "rag_settings.init()\n",
    "rag_db.init_vector_db()\n",
    "rag_updaters.update_llama_index_documents(use_saved_embeddings=True)"
   ]
  },
  {
   "cell_type": "code",
   "execution_count": 5,
   "id": "d31ead22-ac7b-4174-b2cb-4086a6459473",
   "metadata": {},
   "outputs": [],
   "source": [
    "vector_index = rag_engines.get_semantic_query_index()\n",
    "semantic_query_retriever = rag_engines.get_semantic_query_retriever_engine()\n",
    "sql_query_engine = rag_engines.get_sql_query_engine()"
   ]
  },
  {
   "cell_type": "code",
   "execution_count": 6,
   "id": "3a76d593-450d-48fc-bbb6-74e0d2298bca",
   "metadata": {},
   "outputs": [
    {
     "name": "stdout",
     "output_type": "stream",
     "text": [
      "vector_db blogpost\n"
     ]
    }
   ],
   "source": [
    "print(rag_settings.VECTOR_DB_NAME, rag_settings.VECTOR_DB_TABLE_NAME)"
   ]
  },
  {
   "cell_type": "code",
   "execution_count": 7,
   "id": "872f70d5-fd38-4146-9eee-0f4ba554a8d7",
   "metadata": {},
   "outputs": [],
   "source": [
    "from llama_index.core.tools import QueryEngineTool\n",
    "\n",
    "vector_tool = QueryEngineTool.from_defaults(\n",
    "    query_engine=semantic_query_retriever,\n",
    "    description=(\n",
    "        f\"Useful for answering semantic questions about different blog posts\"\n",
    "    ),\n",
    ")"
   ]
  },
  {
   "cell_type": "code",
   "execution_count": 8,
   "id": "0f155a6a-4d60-40e4-b43e-2428a086c8d1",
   "metadata": {},
   "outputs": [],
   "source": [
    "sql_tool = QueryEngineTool.from_defaults(\n",
    "    query_engine=sql_query_engine,\n",
    "    description=(\n",
    "        \"Useful for translating a natural language query into a SQL query over\"\n",
    "        \" a table containing: blog posts and page views each blog post\"\n",
    "    ),\n",
    ")"
   ]
  },
  {
   "cell_type": "code",
   "execution_count": 9,
   "id": "298422a3-bf77-4ade-a79d-e5f3dd69d172",
   "metadata": {},
   "outputs": [],
   "source": [
    "query_engine = rag_patches.MySQLAutoVectorQueryEngine(\n",
    "    sql_tool, \n",
    "    vector_tool,\n",
    ")"
   ]
  },
  {
   "cell_type": "code",
   "execution_count": 15,
   "id": "50961604-48ca-437d-ad24-7ac7855cab96",
   "metadata": {},
   "outputs": [
    {
     "name": "stdout",
     "output_type": "stream",
     "text": [
      "\u001b[1;3;34mQuerying other query engine: The question 'What do you make?' is a semantic question about the content or purpose of blog posts, which aligns with choice (2) that is useful for answering semantic questions about different blog posts.\n",
      "\u001b[0m"
     ]
    }
   ],
   "source": [
    "response = query_engine.query(\n",
    "    \"What do you make?\"\n",
    ")"
   ]
  },
  {
   "cell_type": "code",
   "execution_count": 16,
   "id": "0af92a90-2914-4172-9c5d-8e3efbbb9c59",
   "metadata": {},
   "outputs": [
    {
     "data": {
      "text/plain": [
       "'If your job is to make decisions, doing it more productively and with less hassle or drama could be beneficial. Improving the quality of your decisions is crucial, as it is a common goal for professionals in any field. Making better decisions can lead to more effective outcomes and greater success in your work.'"
      ]
     },
     "execution_count": 16,
     "metadata": {},
     "output_type": "execute_result"
    }
   ],
   "source": [
    "response.response"
   ]
  },
  {
   "cell_type": "code",
   "execution_count": 17,
   "id": "78548bec-2197-42f8-ab50-3d095d1374c0",
   "metadata": {},
   "outputs": [
    {
     "name": "stdout",
     "output_type": "stream",
     "text": [
      "\u001b[1;3;34mQuerying SQL database: The question requires translating a natural language query into a SQL query to retrieve the top 5 most viewed blog posts and analyze their content for keywords. This aligns with the functionality described in choice 1.\n",
      "\u001b[0m\u001b[1;3;33mSQL query: SELECT \n",
      "    blog_blogpost.title, \n",
      "    blog_blogpost.content, \n",
      "    COUNT(analytics_pageview.id) AS view_count\n",
      "FROM \n",
      "    blog_blogpost\n",
      "JOIN \n",
      "    analytics_pageview ON blog_blogpost.id = analytics_pageview.post_id\n",
      "GROUP BY \n",
      "    blog_blogpost.id\n",
      "ORDER BY \n",
      "    view_count DESC\n",
      "LIMIT 5;\n",
      "\u001b[0m\u001b[1;3;33mSQL response: Here are the top 5 most viewed blog posts along with the keywords that their content includes:\n",
      "\n",
      "1. **Title: \"Taking it very seriously\"**\n",
      "   - **View Count:** 2493\n",
      "   - **Keywords:** April first, greeting, Happy, internet, apocalypse, pretend, smile\n",
      "\n",
      "2. **Title: \"“But we were comfortable”\"**\n",
      "   - **View Count:** 2490\n",
      "   - **Keywords:** digital shift, unwanted, risk, lonely, powerful, efficient, comfortable, follow\n",
      "\n",
      "3. **Title: \"All models are wrong, some models are useful\"**\n",
      "   - **View Count:** 2471\n",
      "   - **Keywords:** model, map, territory, approximation, problem, organization, opportunity, simplified\n",
      "\n",
      "4. **Title: \"The Fremen principle\"**\n",
      "   - **View Count:** 2391\n",
      "   - **Keywords:** new resources, limited resources, population, alternatives, distance learning, in-person lectures, tenure, accreditation\n",
      "\n",
      "5. **Title: \"Portfolio school: Get better clients\"**\n",
      "   - **View Count:** 2383\n",
      "   - **Keywords:** tragedy, health, economy, panic, focus, overwhelmed, health care workers\n",
      "\n",
      "These blog posts cover a range of topics from digital transformation and resource management to health and economic challenges, each resonating with a significant number of readers.\n",
      "\u001b[0m\u001b[1;3;34mTransformed query given SQL response: None\n",
      "\u001b[0m"
     ]
    }
   ],
   "source": [
    "response = query_engine.query(\n",
    "    \"Are are the top 5 most viewed blog posts? What keywords do their content have?\"\n",
    ")"
   ]
  },
  {
   "cell_type": "code",
   "execution_count": 18,
   "id": "96f78be4-960a-432c-98db-2c0af2078963",
   "metadata": {},
   "outputs": [
    {
     "data": {
      "text/markdown": [
       "Here are the top 5 most viewed blog posts along with the keywords that their content includes:\n",
       "\n",
       "1. **Title: \"Taking it very seriously\"**\n",
       "   - **View Count:** 2493\n",
       "   - **Keywords:** April first, greeting, Happy, internet, apocalypse, pretend, smile\n",
       "\n",
       "2. **Title: \"“But we were comfortable”\"**\n",
       "   - **View Count:** 2490\n",
       "   - **Keywords:** digital shift, unwanted, risk, lonely, powerful, efficient, comfortable, follow\n",
       "\n",
       "3. **Title: \"All models are wrong, some models are useful\"**\n",
       "   - **View Count:** 2471\n",
       "   - **Keywords:** model, map, territory, approximation, problem, organization, opportunity, simplified\n",
       "\n",
       "4. **Title: \"The Fremen principle\"**\n",
       "   - **View Count:** 2391\n",
       "   - **Keywords:** new resources, limited resources, population, alternatives, distance learning, in-person lectures, tenure, accreditation\n",
       "\n",
       "5. **Title: \"Portfolio school: Get better clients\"**\n",
       "   - **View Count:** 2383\n",
       "   - **Keywords:** tragedy, health, economy, panic, focus, overwhelmed, health care workers\n",
       "\n",
       "These blog posts cover a range of topics from digital transformation and resource management to health and economic challenges, each resonating with a significant number of readers."
      ],
      "text/plain": [
       "<IPython.core.display.Markdown object>"
      ]
     },
     "metadata": {},
     "output_type": "display_data"
    }
   ],
   "source": [
    "from IPython.display import Markdown, display\n",
    "\n",
    "display(Markdown(response.response))"
   ]
  },
  {
   "cell_type": "code",
   "execution_count": 25,
   "id": "9787d4a9-901a-4fc3-a97d-d04fd15b9599",
   "metadata": {},
   "outputs": [
    {
     "name": "stdout",
     "output_type": "stream",
     "text": [
      "\u001b[1;3;34mQuerying SQL database: The question requires translating a natural language query into a SQL query to retrieve the top 5 least viewed blog posts in the specified time frame.\n",
      "\u001b[0m\u001b[1;3;33mSQL query: SELECT \n",
      "    blog_blogpost.id, \n",
      "    blog_blogpost.title, \n",
      "    COUNT(analytics_pageview.id) AS view_count\n",
      "FROM \n",
      "    blog_blogpost\n",
      "LEFT JOIN \n",
      "    analytics_pageview ON blog_blogpost.id = analytics_pageview.post_id\n",
      "WHERE \n",
      "    analytics_pageview.timestamp BETWEEN '2024-01-01' AND '2025-12-31'\n",
      "GROUP BY \n",
      "    blog_blogpost.id, blog_blogpost.title\n",
      "ORDER BY \n",
      "    view_count ASC\n",
      "LIMIT 5;\n",
      "\u001b[0m\u001b[1;3;33mSQL response: Based on the query results, the top 5 least viewed blog posts from the year 2024 to 2025 are as follows:\n",
      "\n",
      "1. **\"Monopoly and network effects\"** with 525 views.\n",
      "2. **\"A Sunday book reading\"** with 558 views.\n",
      "3. **\"Helping leaders in college reboot\"** with 624 views.\n",
      "4. **\"Is everything going to be okay?\"** with 648 views.\n",
      "5. **\"You’re surrounded\"** with 654 views.\n",
      "\u001b[0m\u001b[1;3;34mTransformed query given SQL response: None\n",
      "\u001b[0mBased on the query results, the top 5 least viewed blog posts from the year 2024 to 2025 are as follows:\n",
      "\n",
      "1. **\"Monopoly and network effects\"** with 525 views.\n",
      "2. **\"A Sunday book reading\"** with 558 views.\n",
      "3. **\"Helping leaders in college reboot\"** with 624 views.\n",
      "4. **\"Is everything going to be okay?\"** with 648 views.\n",
      "5. **\"You’re surrounded\"** with 654 views.\n"
     ]
    }
   ],
   "source": [
    "response = query_engine.query(\n",
    "    \"What are the top 5 least viewed blog posts in the year 2024 to 2025?\"\n",
    ")\n",
    "print(response.response)"
   ]
  },
  {
   "cell_type": "code",
   "execution_count": 26,
   "id": "90fac10c-1674-49b4-8f5a-73eb4aa43461",
   "metadata": {},
   "outputs": [
    {
     "data": {
      "text/markdown": [
       "Based on the query results, the top 5 least viewed blog posts from the year 2024 to 2025 are as follows:\n",
       "\n",
       "1. **\"Monopoly and network effects\"** with 525 views.\n",
       "2. **\"A Sunday book reading\"** with 558 views.\n",
       "3. **\"Helping leaders in college reboot\"** with 624 views.\n",
       "4. **\"Is everything going to be okay?\"** with 648 views.\n",
       "5. **\"You’re surrounded\"** with 654 views."
      ],
      "text/plain": [
       "<IPython.core.display.Markdown object>"
      ]
     },
     "metadata": {},
     "output_type": "display_data"
    }
   ],
   "source": [
    "display(Markdown(response.response))"
   ]
  },
  {
   "cell_type": "code",
   "execution_count": null,
   "id": "d633c0de-04d7-4232-9151-5b081f7d3e50",
   "metadata": {},
   "outputs": [],
   "source": []
  }
 ],
 "metadata": {
  "kernelspec": {
   "display_name": "Python 3 (ipykernel)",
   "language": "python",
   "name": "python3"
  },
  "language_info": {
   "codemirror_mode": {
    "name": "ipython",
    "version": 3
   },
   "file_extension": ".py",
   "mimetype": "text/x-python",
   "name": "python",
   "nbconvert_exporter": "python",
   "pygments_lexer": "ipython3",
   "version": "3.11.8"
  }
 },
 "nbformat": 4,
 "nbformat_minor": 5
}

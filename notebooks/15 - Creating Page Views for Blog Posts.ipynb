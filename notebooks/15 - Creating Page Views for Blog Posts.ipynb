{
 "cells": [
  {
   "cell_type": "code",
   "execution_count": 1,
   "id": "bd852dda-18ea-4aad-a127-4c5d9fcb44e4",
   "metadata": {},
   "outputs": [],
   "source": [
    "import setup\n",
    "\n",
    "setup.init_django()"
   ]
  },
  {
   "cell_type": "code",
   "execution_count": 2,
   "id": "7ac8239e-a4d4-40ac-b0b4-352d875db445",
   "metadata": {},
   "outputs": [],
   "source": [
    "import random\n",
    "from analytics.models import PageView\n",
    "from blog.models import BlogPost"
   ]
  },
  {
   "cell_type": "code",
   "execution_count": null,
   "id": "6878cda6-e5db-4e8f-9636-75714400f3a0",
   "metadata": {},
   "outputs": [],
   "source": [
    "qs = BlogPost.objects.filter(can_delete=True)\n",
    "\n",
    "for obj in qs:\n",
    "    rand_views = random.randint(500, 2500)\n",
    "    for x in range(rand_views):\n",
    "        PageView.objects.create(post=obj)"
   ]
  },
  {
   "cell_type": "code",
   "execution_count": null,
   "id": "4f283055-f807-4e14-bf81-95d9318bcd4e",
   "metadata": {},
   "outputs": [],
   "source": [
    "# PageView.objects.bulk_create()"
   ]
  }
 ],
 "metadata": {
  "kernelspec": {
   "display_name": "Python 3 (ipykernel)",
   "language": "python",
   "name": "python3"
  },
  "language_info": {
   "codemirror_mode": {
    "name": "ipython",
    "version": 3
   },
   "file_extension": ".py",
   "mimetype": "text/x-python",
   "name": "python",
   "nbconvert_exporter": "python",
   "pygments_lexer": "ipython3",
   "version": "3.11.8"
  }
 },
 "nbformat": 4,
 "nbformat_minor": 5
}
